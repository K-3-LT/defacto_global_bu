{
  "cells": [
    {
      "cell_type": "markdown",
      "metadata": {
        "id": "view-in-github",
        "colab_type": "text"
      },
      "source": [
        "<a href=\"https://colab.research.google.com/github/K-3-LT/defacto_global_bu/blob/main/Training_Material_Data_Scraping.ipynb\" target=\"_parent\"><img src=\"https://colab.research.google.com/assets/colab-badge.svg\" alt=\"Open In Colab\"/></a>"
      ]
    },
    {
      "cell_type": "markdown",
      "id": "68a1d336",
      "metadata": {
        "id": "68a1d336"
      },
      "source": [
        "# deFacto Global Training Material Data Scrapping"
      ]
    },
    {
      "cell_type": "markdown",
      "id": "9a3018cd",
      "metadata": {
        "id": "9a3018cd"
      },
      "source": [
        "## Instructions\n",
        "1. The program best runs on Jupyter Notebook locally or Google Colab Pro.\n",
        "2. Install selenium and bs4.\n",
        "3. Download the latest version of chrome driver from https://chromedriver.chromium.org/ , make sure the excutable path is /usr/local/bin/ (for Mac users)\n",
        "4. Make sure the chrome driver version matches the the user version of Chrome."
      ]
    },
    {
      "cell_type": "markdown",
      "id": "3e5cba79",
      "metadata": {
        "id": "3e5cba79"
      },
      "source": [
        "## Scrape Sample Content"
      ]
    },
    {
      "cell_type": "code",
      "source": [
        "!apt-get update\n",
        "!apt install -y chromium-chromedriver"
      ],
      "metadata": {
        "colab": {
          "base_uri": "https://localhost:8080/"
        },
        "id": "nvbBhrcG44gK",
        "outputId": "7043c32d-3a0e-483c-b105-60db6c1839b6"
      },
      "id": "nvbBhrcG44gK",
      "execution_count": null,
      "outputs": [
        {
          "output_type": "stream",
          "name": "stdout",
          "text": [
            "\r0% [Working]\r            \rHit:1 http://archive.ubuntu.com/ubuntu focal InRelease\n",
            "\r0% [Waiting for headers] [Connected to cloud.r-project.org (108.138.128.126)] [\r                                                                               \rGet:2 http://archive.ubuntu.com/ubuntu focal-updates InRelease [114 kB]\n",
            "\r                                                                               \rGet:3 http://security.ubuntu.com/ubuntu focal-security InRelease [114 kB]\n",
            "\r0% [2 InRelease 15.6 kB/114 kB 14%] [3 InRelease 44.6 kB/114 kB 39%] [Connected\r                                                                               \rGet:4 https://cloud.r-project.org/bin/linux/ubuntu focal-cran40/ InRelease [3,622 B]\n",
            "\r0% [2 InRelease 62.0 kB/114 kB 54%] [Connecting to ppa.launchpad.net] [Waiting \r                                                                               \r0% [Connecting to ppa.launchpad.net (185.125.190.52)] [Waiting for headers]\r                                                                           \rGet:5 http://archive.ubuntu.com/ubuntu focal-backports InRelease [108 kB]\n",
            "\r0% [5 InRelease 9,840 B/108 kB 9%] [Connecting to ppa.launchpad.net (185.125.19\r                                                                               \r0% [Connecting to ppa.launchpad.net (185.125.190.52)] [Waiting for headers]\r                                                                           \rHit:6 https://developer.download.nvidia.com/compute/cuda/repos/ubuntu2004/x86_64  InRelease\n",
            "Hit:7 http://ppa.launchpad.net/c2d4u.team/c2d4u4.0+/ubuntu focal InRelease\n",
            "Hit:8 http://ppa.launchpad.net/cran/libgit2/ubuntu focal InRelease\n",
            "Get:9 http://ppa.launchpad.net/deadsnakes/ppa/ubuntu focal InRelease [18.1 kB]\n",
            "Get:10 http://archive.ubuntu.com/ubuntu focal-updates/main amd64 Packages [3,299 kB]\n",
            "Get:11 http://archive.ubuntu.com/ubuntu focal-updates/universe amd64 Packages [1,360 kB]\n",
            "Hit:12 http://ppa.launchpad.net/graphics-drivers/ppa/ubuntu focal InRelease\n",
            "Hit:13 http://ppa.launchpad.net/ubuntugis/ppa/ubuntu focal InRelease\n",
            "Get:14 http://ppa.launchpad.net/deadsnakes/ppa/ubuntu focal/main amd64 Packages [29.5 kB]\n",
            "Fetched 5,046 kB in 2s (2,486 kB/s)\n",
            "Reading package lists... Done\n",
            "Reading package lists... Done\n",
            "Building dependency tree       \n",
            "Reading state information... Done\n",
            "The following additional packages will be installed:\n",
            "  apparmor chromium-browser liblzo2-2 libudev1 snapd squashfs-tools udev\n",
            "Suggested packages:\n",
            "  apparmor-profiles-extra apparmor-utils zenity | kdialog\n",
            "The following NEW packages will be installed:\n",
            "  apparmor chromium-browser chromium-chromedriver liblzo2-2 snapd\n",
            "  squashfs-tools udev\n",
            "The following packages will be upgraded:\n",
            "  libudev1\n",
            "1 upgraded, 7 newly installed, 0 to remove and 12 not upgraded.\n",
            "Need to get 40.1 MB of archives.\n",
            "After this operation, 183 MB of additional disk space will be used.\n",
            "Get:1 http://archive.ubuntu.com/ubuntu focal-updates/main amd64 apparmor amd64 2.13.3-7ubuntu5.2 [502 kB]\n",
            "Get:2 http://archive.ubuntu.com/ubuntu focal/main amd64 liblzo2-2 amd64 2.10-2 [50.8 kB]\n",
            "Get:3 http://archive.ubuntu.com/ubuntu focal-updates/main amd64 squashfs-tools amd64 1:4.4-1ubuntu0.3 [117 kB]\n",
            "Get:4 http://archive.ubuntu.com/ubuntu focal-updates/main amd64 libudev1 amd64 245.4-4ubuntu3.22 [75.4 kB]\n",
            "Get:5 http://archive.ubuntu.com/ubuntu focal-updates/main amd64 udev amd64 245.4-4ubuntu3.22 [1,366 kB]\n",
            "Get:6 http://archive.ubuntu.com/ubuntu focal-updates/main amd64 snapd amd64 2.58+20.04.1 [37.9 MB]\n",
            "Get:7 http://archive.ubuntu.com/ubuntu focal-updates/universe amd64 chromium-browser amd64 1:85.0.4183.83-0ubuntu0.20.04.3 [48.5 kB]\n",
            "Get:8 http://archive.ubuntu.com/ubuntu focal-updates/universe amd64 chromium-chromedriver amd64 1:85.0.4183.83-0ubuntu0.20.04.3 [2,496 B]\n",
            "Fetched 40.1 MB in 2s (21.1 MB/s)\n",
            "Preconfiguring packages ...\n",
            "Selecting previously unselected package apparmor.\n",
            "(Reading database ... 123069 files and directories currently installed.)\n",
            "Preparing to unpack .../apparmor_2.13.3-7ubuntu5.2_amd64.deb ...\n",
            "Unpacking apparmor (2.13.3-7ubuntu5.2) ...\n",
            "Selecting previously unselected package liblzo2-2:amd64.\n",
            "Preparing to unpack .../liblzo2-2_2.10-2_amd64.deb ...\n",
            "Unpacking liblzo2-2:amd64 (2.10-2) ...\n",
            "Selecting previously unselected package squashfs-tools.\n",
            "Preparing to unpack .../squashfs-tools_1%3a4.4-1ubuntu0.3_amd64.deb ...\n",
            "Unpacking squashfs-tools (1:4.4-1ubuntu0.3) ...\n",
            "Preparing to unpack .../libudev1_245.4-4ubuntu3.22_amd64.deb ...\n",
            "Unpacking libudev1:amd64 (245.4-4ubuntu3.22) over (245.4-4ubuntu3.21) ...\n",
            "Setting up libudev1:amd64 (245.4-4ubuntu3.22) ...\n",
            "Selecting previously unselected package udev.\n",
            "(Reading database ... 123256 files and directories currently installed.)\n",
            "Preparing to unpack .../udev_245.4-4ubuntu3.22_amd64.deb ...\n",
            "Unpacking udev (245.4-4ubuntu3.22) ...\n",
            "Selecting previously unselected package snapd.\n",
            "Preparing to unpack .../snapd_2.58+20.04.1_amd64.deb ...\n",
            "Unpacking snapd (2.58+20.04.1) ...\n",
            "Setting up apparmor (2.13.3-7ubuntu5.2) ...\n",
            "Created symlink /etc/systemd/system/sysinit.target.wants/apparmor.service → /lib/systemd/system/apparmor.service.\n",
            "Setting up liblzo2-2:amd64 (2.10-2) ...\n",
            "Setting up squashfs-tools (1:4.4-1ubuntu0.3) ...\n",
            "Setting up udev (245.4-4ubuntu3.22) ...\n",
            "invoke-rc.d: could not determine current runlevel\n",
            "invoke-rc.d: policy-rc.d denied execution of start.\n",
            "Setting up snapd (2.58+20.04.1) ...\n",
            "Created symlink /etc/systemd/system/multi-user.target.wants/snapd.aa-prompt-listener.service → /lib/systemd/system/snapd.aa-prompt-listener.service.\n",
            "Created symlink /etc/systemd/system/multi-user.target.wants/snapd.apparmor.service → /lib/systemd/system/snapd.apparmor.service.\n",
            "Created symlink /etc/systemd/system/multi-user.target.wants/snapd.autoimport.service → /lib/systemd/system/snapd.autoimport.service.\n",
            "Created symlink /etc/systemd/system/multi-user.target.wants/snapd.core-fixup.service → /lib/systemd/system/snapd.core-fixup.service.\n",
            "Created symlink /etc/systemd/system/multi-user.target.wants/snapd.recovery-chooser-trigger.service → /lib/systemd/system/snapd.recovery-chooser-trigger.service.\n",
            "Created symlink /etc/systemd/system/multi-user.target.wants/snapd.seeded.service → /lib/systemd/system/snapd.seeded.service.\n",
            "Created symlink /etc/systemd/system/cloud-final.service.wants/snapd.seeded.service → /lib/systemd/system/snapd.seeded.service.\n",
            "Created symlink /etc/systemd/system/multi-user.target.wants/snapd.service → /lib/systemd/system/snapd.service.\n",
            "Created symlink /etc/systemd/system/timers.target.wants/snapd.snap-repair.timer → /lib/systemd/system/snapd.snap-repair.timer.\n",
            "Created symlink /etc/systemd/system/sockets.target.wants/snapd.socket → /lib/systemd/system/snapd.socket.\n",
            "Created symlink /etc/systemd/system/final.target.wants/snapd.system-shutdown.service → /lib/systemd/system/snapd.system-shutdown.service.\n",
            "Selecting previously unselected package chromium-browser.\n",
            "(Reading database ... 123477 files and directories currently installed.)\n",
            "Preparing to unpack .../chromium-browser_1%3a85.0.4183.83-0ubuntu0.20.04.3_amd64.deb ...\n",
            "=> Installing the chromium snap\n",
            "==> Checking connectivity with the snap store\n",
            "===> System doesn't have a working snapd, skipping\n",
            "Unpacking chromium-browser (1:85.0.4183.83-0ubuntu0.20.04.3) ...\n",
            "Selecting previously unselected package chromium-chromedriver.\n",
            "Preparing to unpack .../chromium-chromedriver_1%3a85.0.4183.83-0ubuntu0.20.04.3_amd64.deb ...\n",
            "Unpacking chromium-chromedriver (1:85.0.4183.83-0ubuntu0.20.04.3) ...\n",
            "Setting up chromium-browser (1:85.0.4183.83-0ubuntu0.20.04.3) ...\n",
            "update-alternatives: using /usr/bin/chromium-browser to provide /usr/bin/x-www-browser (x-www-browser) in auto mode\n",
            "update-alternatives: using /usr/bin/chromium-browser to provide /usr/bin/gnome-www-browser (gnome-www-browser) in auto mode\n",
            "Setting up chromium-chromedriver (1:85.0.4183.83-0ubuntu0.20.04.3) ...\n",
            "Processing triggers for mime-support (3.64ubuntu1) ...\n",
            "Processing triggers for hicolor-icon-theme (0.17-2) ...\n",
            "Processing triggers for libc-bin (2.31-0ubuntu9.9) ...\n",
            "Processing triggers for systemd (245.4-4ubuntu3.22) ...\n",
            "Processing triggers for man-db (2.9.1-1) ...\n",
            "Processing triggers for dbus (1.12.16-2ubuntu2.3) ...\n"
          ]
        }
      ]
    },
    {
      "cell_type": "code",
      "source": [
        "!cp /usr/lib/chromium-browser/chromedriver /usr/local/bin\n",
        "import sys\n",
        "sys.path.insert(0,'/usr/lib/chromium-browser/chromedriver')\n"
      ],
      "metadata": {
        "id": "NjRNmBpC5Ibj"
      },
      "id": "NjRNmBpC5Ibj",
      "execution_count": null,
      "outputs": []
    },
    {
      "cell_type": "code",
      "source": [
        "!pip install selenium"
      ],
      "metadata": {
        "colab": {
          "base_uri": "https://localhost:8080/"
        },
        "id": "EUAFeYqQ3xas",
        "outputId": "cc2c9971-0446-447f-fb49-ead071dc605f"
      },
      "id": "EUAFeYqQ3xas",
      "execution_count": null,
      "outputs": [
        {
          "output_type": "stream",
          "name": "stdout",
          "text": [
            "Looking in indexes: https://pypi.org/simple, https://us-python.pkg.dev/colab-wheels/public/simple/\n",
            "Collecting selenium\n",
            "  Downloading selenium-4.10.0-py3-none-any.whl (6.7 MB)\n",
            "\u001b[2K     \u001b[90m━━━━━━━━━━━━━━━━━━━━━━━━━━━━━━━━━━━━━━━━\u001b[0m \u001b[32m6.7/6.7 MB\u001b[0m \u001b[31m60.0 MB/s\u001b[0m eta \u001b[36m0:00:00\u001b[0m\n",
            "\u001b[?25hRequirement already satisfied: urllib3[socks]<3,>=1.26 in /usr/local/lib/python3.10/dist-packages (from selenium) (1.26.16)\n",
            "Collecting trio~=0.17 (from selenium)\n",
            "  Downloading trio-0.22.0-py3-none-any.whl (384 kB)\n",
            "\u001b[2K     \u001b[90m━━━━━━━━━━━━━━━━━━━━━━━━━━━━━━━━━━━━━━\u001b[0m \u001b[32m384.9/384.9 kB\u001b[0m \u001b[31m29.3 MB/s\u001b[0m eta \u001b[36m0:00:00\u001b[0m\n",
            "\u001b[?25hCollecting trio-websocket~=0.9 (from selenium)\n",
            "  Downloading trio_websocket-0.10.3-py3-none-any.whl (17 kB)\n",
            "Requirement already satisfied: certifi>=2021.10.8 in /usr/local/lib/python3.10/dist-packages (from selenium) (2023.5.7)\n",
            "Requirement already satisfied: attrs>=19.2.0 in /usr/local/lib/python3.10/dist-packages (from trio~=0.17->selenium) (23.1.0)\n",
            "Requirement already satisfied: sortedcontainers in /usr/local/lib/python3.10/dist-packages (from trio~=0.17->selenium) (2.4.0)\n",
            "Collecting async-generator>=1.9 (from trio~=0.17->selenium)\n",
            "  Downloading async_generator-1.10-py3-none-any.whl (18 kB)\n",
            "Requirement already satisfied: idna in /usr/local/lib/python3.10/dist-packages (from trio~=0.17->selenium) (3.4)\n",
            "Collecting outcome (from trio~=0.17->selenium)\n",
            "  Downloading outcome-1.2.0-py2.py3-none-any.whl (9.7 kB)\n",
            "Requirement already satisfied: sniffio in /usr/local/lib/python3.10/dist-packages (from trio~=0.17->selenium) (1.3.0)\n",
            "Requirement already satisfied: exceptiongroup>=1.0.0rc9 in /usr/local/lib/python3.10/dist-packages (from trio~=0.17->selenium) (1.1.1)\n",
            "Collecting wsproto>=0.14 (from trio-websocket~=0.9->selenium)\n",
            "  Downloading wsproto-1.2.0-py3-none-any.whl (24 kB)\n",
            "Requirement already satisfied: PySocks!=1.5.7,<2.0,>=1.5.6 in /usr/local/lib/python3.10/dist-packages (from urllib3[socks]<3,>=1.26->selenium) (1.7.1)\n",
            "Collecting h11<1,>=0.9.0 (from wsproto>=0.14->trio-websocket~=0.9->selenium)\n",
            "  Downloading h11-0.14.0-py3-none-any.whl (58 kB)\n",
            "\u001b[2K     \u001b[90m━━━━━━━━━━━━━━━━━━━━━━━━━━━━━━━━━━━━━━━━\u001b[0m \u001b[32m58.3/58.3 kB\u001b[0m \u001b[31m5.8 MB/s\u001b[0m eta \u001b[36m0:00:00\u001b[0m\n",
            "\u001b[?25hInstalling collected packages: outcome, h11, async-generator, wsproto, trio, trio-websocket, selenium\n",
            "Successfully installed async-generator-1.10 h11-0.14.0 outcome-1.2.0 selenium-4.10.0 trio-0.22.0 trio-websocket-0.10.3 wsproto-1.2.0\n"
          ]
        }
      ]
    },
    {
      "cell_type": "code",
      "execution_count": null,
      "id": "17ebd610",
      "metadata": {
        "id": "17ebd610"
      },
      "outputs": [],
      "source": [
        "# Import packages\n",
        "import pandas as pd\n",
        "import numpy as np\n",
        "from bs4 import BeautifulSoup\n",
        "import time\n",
        "from selenium import webdriver\n",
        "from selenium.webdriver.chrome.options import Options\n",
        "from selenium.webdriver.common.by import By\n",
        "from selenium.webdriver.support.ui import WebDriverWait\n",
        "from selenium.webdriver.support import expected_conditions as EC"
      ]
    },
    {
      "cell_type": "code",
      "execution_count": null,
      "id": "7cc40a71",
      "metadata": {
        "id": "7cc40a71"
      },
      "outputs": [],
      "source": [
        "# Set options for chrome\n",
        "chrome_options = Options()\n",
        "chrome_options.add_argument(\"--disable-extensions\")\n",
        "chrome_options.add_argument('--headless')\n",
        "chrome_options.add_argument('--disable-gpu')\n",
        "chrome_options.add_argument('start-maximized')\n",
        "chrome_options.add_argument('--no-sandbox')\n",
        "chrome_options.add_argument('--disable-dev-shm-usage')"
      ]
    },
    {
      "cell_type": "code",
      "execution_count": null,
      "id": "383bb355",
      "metadata": {
        "id": "383bb355"
      },
      "outputs": [],
      "source": [
        "# Create a new instance of the chrome driver\n",
        "driver = webdriver.Chrome(executable_path = '/usr/local/bin/chromedriver', chrome_options = chrome_options)\n",
        "\n",
        "# Navigate to the website's login page\n",
        "driver.get('https://training.defactoglobal.com/dashboard/')"
      ]
    },
    {
      "cell_type": "code",
      "execution_count": null,
      "id": "ef46f3b7",
      "metadata": {
        "id": "ef46f3b7"
      },
      "outputs": [],
      "source": [
        "# Find the username and password input fields using ID attributes\n",
        "username_field = WebDriverWait(driver, 10).until(EC.presence_of_element_located((By.ID, 'llms_login')))\n",
        "password_field = WebDriverWait(driver, 10).until(EC.presence_of_element_located((By.ID, 'llms_password')))\n",
        "\n",
        "# Enter the username and password\n",
        "username_field.send_keys('BU_Capstone')\n",
        "password_field.send_keys('dFTr@in1ng_BU')\n",
        "\n",
        "# Submit the login form\n",
        "password_field.submit()"
      ]
    },
    {
      "cell_type": "code",
      "execution_count": null,
      "id": "0d40db23",
      "metadata": {
        "id": "0d40db23"
      },
      "outputs": [],
      "source": [
        "# Wait for the image element to be clickable\n",
        "image_element = WebDriverWait(driver, 10).until(EC.element_to_be_clickable((By.XPATH, '//img[@src=\"https://training.defactoglobal.com/wp-content/uploads/2020/04/Course1.png\"]')))\n",
        "\n",
        "# Click on the image\n",
        "image_element.click()"
      ]
    },
    {
      "cell_type": "code",
      "execution_count": null,
      "id": "c1b51c78",
      "metadata": {
        "id": "c1b51c78"
      },
      "outputs": [],
      "source": [
        "# Wait for the tab element to be clickable\n",
        "tab_element = WebDriverWait(driver, 10).until(EC.element_to_be_clickable((By.XPATH, '//h5[contains(text(), \"General Information\")]')))\n",
        "\n",
        "# Click on the tab\n",
        "tab_element.click()"
      ]
    },
    {
      "cell_type": "code",
      "execution_count": null,
      "id": "dc080133",
      "metadata": {
        "id": "dc080133"
      },
      "outputs": [],
      "source": [
        "# Wait for the page content to load\n",
        "WebDriverWait(driver, 10).until(EC.presence_of_element_located((By.TAG_NAME, 'body')))"
      ]
    },
    {
      "cell_type": "markdown",
      "id": "7db3da6b",
      "metadata": {
        "id": "7db3da6b"
      },
      "source": [
        "### Scrapping all contents on this tab (General Information)"
      ]
    },
    {
      "cell_type": "code",
      "execution_count": null,
      "id": "fbd1bc04",
      "metadata": {
        "id": "fbd1bc04"
      },
      "outputs": [],
      "source": [
        "# Get the page source\n",
        "page_source = driver.page_source\n",
        "\n",
        "# Create BeautifulSoup object\n",
        "soup = BeautifulSoup(page_source, 'html.parser')\n",
        "\n",
        "# Scrape everything on the page\n",
        "all_elements = soup.find_all()\n",
        "\n",
        "# Print the scraped elements\n",
        "for element in all_elements:\n",
        "    print(element)"
      ]
    },
    {
      "cell_type": "markdown",
      "id": "24e0f12e",
      "metadata": {
        "id": "24e0f12e"
      },
      "source": [
        "### Scrapping selected contents on this tab (General Information)"
      ]
    },
    {
      "cell_type": "code",
      "execution_count": null,
      "id": "8322358a",
      "metadata": {
        "id": "8322358a"
      },
      "outputs": [],
      "source": [
        "# Get the page source\n",
        "page_source = driver.page_source\n",
        "\n",
        "# Create BeautifulSoup object\n",
        "soup = BeautifulSoup(page_source, 'html.parser')\n",
        "\n",
        "# Scrape everything on the page\n",
        "all_elements = soup.find('div', class_ = 'entry-content clear')\n",
        "\n",
        "# Print the scraped elements\n",
        "for element in all_elements:\n",
        "    print(element)"
      ]
    },
    {
      "cell_type": "code",
      "execution_count": null,
      "id": "6125b1e7",
      "metadata": {
        "id": "6125b1e7"
      },
      "outputs": [],
      "source": [
        "# Close the driver\n",
        "driver.quit()"
      ]
    },
    {
      "cell_type": "markdown",
      "id": "cd94cd93",
      "metadata": {
        "id": "cd94cd93"
      },
      "source": [
        "## Design Function"
      ]
    },
    {
      "cell_type": "code",
      "execution_count": null,
      "id": "a4a78f1e",
      "metadata": {
        "id": "a4a78f1e"
      },
      "outputs": [],
      "source": [
        "# Set options for chrome\n",
        "chrome_options = Options()\n",
        "chrome_options.add_argument(\"--disable-extensions\")\n",
        "chrome_options.add_argument('--headless')\n",
        "chrome_options.add_argument('--disable-gpu')\n",
        "chrome_options.add_argument('start-maximized')\n",
        "chrome_options.add_argument('--no-sandbox')\n",
        "chrome_options.add_argument('--disable-dev-shm-usage')\n",
        "\n",
        "# Create a new instance of the chrome driver\n",
        "driver = webdriver.Chrome(executable_path = '/usr/local/bin/chromedriver', chrome_options = chrome_options)\n",
        "\n",
        "# Navigate to the website's login page\n",
        "driver.get('https://training.defactoglobal.com/dashboard/')\n",
        "\n",
        "# Find the username and password input fields using ID attributes\n",
        "username_field = WebDriverWait(driver, 10).until(EC.presence_of_element_located((By.ID, 'llms_login')))\n",
        "password_field = WebDriverWait(driver, 10).until(EC.presence_of_element_located((By.ID, 'llms_password')))\n",
        "\n",
        "# Enter the username and password\n",
        "username_field.send_keys('BU_Capstone')\n",
        "password_field.send_keys('dFTr@in1ng_BU')\n",
        "\n",
        "# Submit the login form\n",
        "password_field.submit()\n",
        "\n",
        "# Wait for the image element to be clickable\n",
        "image_element = WebDriverWait(driver, 10).until(EC.element_to_be_clickable((By.XPATH, '//img[@src=\"https://training.defactoglobal.com/wp-content/uploads/2020/04/Course1.png\"]')))\n",
        "\n",
        "# Click on the image\n",
        "image_element.click()"
      ]
    },
    {
      "cell_type": "code",
      "execution_count": null,
      "id": "0817ee2e",
      "metadata": {
        "id": "0817ee2e"
      },
      "outputs": [],
      "source": [
        "# Wait for the tab element to be clickable\n",
        "tab_element = WebDriverWait(driver, 10).until(EC.element_to_be_clickable((By.XPATH, '//h5[contains(text(), \"Data Submission\")]')))\n",
        "\n",
        "# Click on the tab\n",
        "tab_element.click()"
      ]
    },
    {
      "cell_type": "code",
      "execution_count": null,
      "id": "87b9381e",
      "metadata": {
        "id": "87b9381e"
      },
      "outputs": [],
      "source": []
    }
  ],
  "metadata": {
    "kernelspec": {
      "display_name": "Python 3 (ipykernel)",
      "language": "python",
      "name": "python3"
    },
    "language_info": {
      "codemirror_mode": {
        "name": "ipython",
        "version": 3
      },
      "file_extension": ".py",
      "mimetype": "text/x-python",
      "name": "python",
      "nbconvert_exporter": "python",
      "pygments_lexer": "ipython3",
      "version": "3.9.7"
    },
    "colab": {
      "provenance": [],
      "include_colab_link": true
    }
  },
  "nbformat": 4,
  "nbformat_minor": 5
}