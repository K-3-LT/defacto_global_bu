{
  "nbformat": 4,
  "nbformat_minor": 0,
  "metadata": {
    "colab": {
      "provenance": [],
      "collapsed_sections": [
        "eXW5Sv3g4PqA",
        "-bL-NOSDcIii",
        "UiDIc82rky12"
      ],
      "include_colab_link": true
    },
    "kernelspec": {
      "name": "python3",
      "display_name": "Python 3"
    },
    "language_info": {
      "name": "python"
    }
  },
  "cells": [
    {
      "cell_type": "markdown",
      "metadata": {
        "id": "view-in-github",
        "colab_type": "text"
      },
      "source": [
        "<a href=\"https://colab.research.google.com/github/K-3-LT/defacto_global_bu/blob/main/Pinecone_Model.ipynb\" target=\"_parent\"><img src=\"https://colab.research.google.com/assets/colab-badge.svg\" alt=\"Open In Colab\"/></a>"
      ]
    },
    {
      "cell_type": "markdown",
      "source": [
        "# Library"
      ],
      "metadata": {
        "id": "eXW5Sv3g4PqA"
      }
    },
    {
      "cell_type": "code",
      "source": [
        "!pip install python-docx openai transformers pinecone-client"
      ],
      "metadata": {
        "id": "mszQaRJdciRl",
        "colab": {
          "base_uri": "https://localhost:8080/"
        },
        "outputId": "23bd8ac0-91f2-4e3d-e614-4d446764056f"
      },
      "execution_count": null,
      "outputs": [
        {
          "output_type": "stream",
          "name": "stdout",
          "text": [
            "Installing collected packages: tokenizers, safetensors, python-docx, loguru, dnspython, pinecone-client, huggingface-hub, transformers, openai\n",
            "Successfully installed dnspython-2.4.2 huggingface-hub-0.16.4 loguru-0.7.0 openai-0.27.8 pinecone-client-2.2.2 python-docx-0.8.11 safetensors-0.3.2 tokenizers-0.13.3 transformers-4.31.0\n"
          ]
        }
      ]
    },
    {
      "cell_type": "code",
      "source": [
        "import docx\n",
        "import openai\n",
        "import csv\n",
        "from pathlib import Path\n",
        "from transformers import GPT2Tokenizer\n",
        "from google.colab import files\n",
        "import pinecone\n",
        "from tqdm import tqdm"
      ],
      "metadata": {
        "id": "aDTJE3tFcLWd"
      },
      "execution_count": null,
      "outputs": []
    },
    {
      "cell_type": "markdown",
      "source": [
        "# 1. Data Extraction"
      ],
      "metadata": {
        "id": "d4DScrh6kuzq"
      }
    },
    {
      "cell_type": "markdown",
      "metadata": {
        "id": "9a3018cd"
      },
      "source": [
        "## Instructions\n",
        "1. This part best runs on Jupyter Notebook.\n",
        "2. Install selenium and bs4.\n",
        "3. Download the latest version of chrome driver from https://chromedriver.chromium.org/ , make sure the excutable path is /usr/local/bin/\n",
        "4. Make sure the chrome driver version matches the the user version of Chrome."
      ]
    },
    {
      "cell_type": "markdown",
      "source": [
        "We use the scrapped data here.\n",
        "\n",
        "For the process of scraping, please refer to https://drive.google.com/file/d/10Vqm2Hx1U3uu-ruaZMJNDpbTXTCf4Sdx/view?usp=sharing"
      ],
      "metadata": {
        "id": "1OeZehJQa4r7"
      }
    },
    {
      "cell_type": "markdown",
      "source": [
        "# 2. Embedding"
      ],
      "metadata": {
        "id": "-bL-NOSDcIii"
      }
    },
    {
      "cell_type": "code",
      "source": [
        "# read word doc\n",
        "def read_docx(file_path):\n",
        "  doc = docx.Document(file_path)\n",
        "  #files.upload()\n",
        "  text = []\n",
        "  for paragraph in doc.paragraphs:\n",
        "    # skip links\n",
        "    if 'http://' not in paragraph.text and 'https://' not in paragraph.text:\n",
        "      text.append(paragraph.text)\n",
        "  return '\\n'.join(text)"
      ],
      "metadata": {
        "id": "qw4etnIwdJao"
      },
      "execution_count": null,
      "outputs": []
    },
    {
      "cell_type": "code",
      "source": [
        "content = read_docx('/content/defacto.docx')\n",
        "\n",
        "# split content into small paragraphs\n",
        "paragraphs = content.split('\\n')\n",
        "\n",
        "# Input openai api\n",
        "api_key = input(\"Please ensure proper inputting of OpenAI API key:\")\n",
        "openai.api_key = api_key\n",
        "\n",
        "# Tokenize paragraph\n",
        "tokenizer = GPT2Tokenizer.from_pretrained(\"gpt2\")\n",
        "\n",
        "# Make sure each section is less than 4096\n",
        "sections = []\n",
        "current_section = \"\"\n",
        "for paragraph in paragraphs:\n",
        "  tokens = tokenizer.encode(paragraph, add_special_tokens=False)\n",
        "  if len(tokens) + len(tokenizer.encode(current_section, add_special_tokens=False)) > 4000:\n",
        "    current_section += '\\n'\n",
        "    sections.append(current_section)\n",
        "    current_section = paragraph\n",
        "  else:\n",
        "    current_section += f'\\n{paragraph}'\n",
        "\n",
        "if current_section:\n",
        "  sections.append(current_section)\n",
        "\n",
        "# transfer paragraph into embedding\n",
        "def create_embedding(section):\n",
        "  model_engine = \"text-embedding-ada-002\"\n",
        "  openai.api_key = api_key\n",
        "  response = openai.Embedding.create(\n",
        "      model=model_engine,\n",
        "      input=section,\n",
        "  )\n",
        "  return response['data'][0]['embedding']\n",
        "\n",
        "embeddings = [create_embedding(section) for section in tqdm(sections)]\n",
        "\n",
        "print(embeddings)"
      ],
      "metadata": {
        "id": "usUPt3Kuds-J"
      },
      "execution_count": null,
      "outputs": []
    },
    {
      "cell_type": "code",
      "source": [
        "# Pinecone API key\n",
        "pinecone_api_key = input(\"Please enter your Pinecone API key: \")\n",
        "pinecone_environment = input(\"Please enter your Pinecone Environment: \")\n",
        "\n",
        "# Pinecone index name\n",
        "index_name = input(\"please enter your Pinecone vector database index name(only lower-case characters or number): \")\n",
        "\n",
        "# Initial Pinecone\n",
        "pinecone.init(api_key=pinecone_api_key,environment=pinecone_environment)\n",
        "\n",
        "# Create a new Pinecone index\n",
        "pinecone.create_index(name = index_name, dimension=len(embeddings[0]),metric='cosine', pod_type='p2')\n",
        "\n",
        "# Access index instance\n",
        "index = pinecone.Index(index_name=index_name)\n",
        "\n",
        "# Create metadata list\n",
        "metadata = [{\"report_context\": section} for section in sections]\n",
        "\n",
        "# upsert vectors and metadata into index\n",
        "for i, (embedding, meta) in enumerate(zip(embeddings, metadata)):\n",
        "  index.upsert(vectors=[(str(i), embedding, meta)])"
      ],
      "metadata": {
        "id": "PEbp6EHYhayf"
      },
      "execution_count": null,
      "outputs": []
    },
    {
      "cell_type": "markdown",
      "source": [
        "# 3. Query"
      ],
      "metadata": {
        "id": "z98bOJkiipon"
      }
    },
    {
      "cell_type": "code",
      "source": [
        "query = input(\"What is your question? \")\n",
        "\n",
        "xq = openai.Embedding.create(input=query, engine=\"text-embedding-ada-002\")['data'][0]['embedding']\n",
        "\n",
        "# Find the top 5 match score data\n",
        "res = index.query([xq], top_k=5, include_metadata=True)\n",
        "\n",
        "# Calculate match score and feed the best match data into gpt\n",
        "#for match in res['matches']:\n",
        "    # Store highest score report context\n",
        "    #print(f\"{match['score']:.2f}: {match['metadata']['report_context']}\")\n",
        "\n",
        "info = res['matches'][0]['metadata']['report_context']\n",
        "\n",
        "def ask_question(query, info):\n",
        "    messages = [\n",
        "        {\"role\": \"system\", \"content\": \"You are a helpful customer assistant of deFacto Inc..\"},\n",
        "        {\"role\": \"assistant\", \"content\": info},\n",
        "        {\"role\": \"user\", \"content\": query},\n",
        "    ]\n",
        "\n",
        "    response = openai.ChatCompletion.create(\n",
        "        model=\"gpt-4-0613\", #gpt-4-0613 / gpt-3.5-turbo-0613\n",
        "        messages=messages,\n",
        "    )\n",
        "\n",
        "    return response['choices'][0]['message']['content']\n",
        "\n",
        "\n",
        "print(ask_question(query, info))\n"
      ],
      "metadata": {
        "colab": {
          "base_uri": "https://localhost:8080/"
        },
        "id": "u-pa-o5IisAB",
        "outputId": "f2e7e329-c3ed-4bca-8faa-624ae8c3ac87"
      },
      "execution_count": null,
      "outputs": [
        {
          "output_type": "stream",
          "name": "stdout",
          "text": [
            "What is your question? How can Data Locks be configured within an Application, and can they be applied on a model by model basis?\n",
            "Data Locks in deFacto allow you to control security at a data level, rather than a user level. They are a handy tool to restrict or grant data access based on specific conditions set within dimensions. This can be particularly useful in budget planning schedules when you need to ensure write access is only available during certain periods.\n",
            "\n",
            "Data Locks configuration works at the model level and can be effectively applied on a model by model basis. Here are the general steps to configure Data Locks:\n",
            "\n",
            "1. Navigate to the Model you want to set Data Locks for in the dFModeler.\n",
            "2. On the Tools ribbon, click on the Lock icon to open the Data Locks window.\n",
            "3. Click the 'New Data Lock' button.\n",
            "4. In the New Data Lock window, provide a label for the lock, select the Lock Type (Read, Write, or Both), and select the Lock Status (Locked or Unlocked).\n",
            "5. Next, define the conditions for the lock in the 'Data Lock Conditions' section. Choose the dimensions and their corresponding members for which the lock should apply.\n",
            "6. Click the 'Save and Close' button to save the Data Lock.\n",
            "\n",
            "You may create as many Data Locks as needed. It’s important to note that they can overlap and multiple locks can apply to the same data intersections. If there are conflicts between different Data Locks, the least restrictive setting applies. \n",
            "\n",
            "Once you have made changes, remember to deploy your application to push these updates out to the end users. Please note that, unlike User Security, Data Locks do not get refreshed in real-time and require either an application deployment or running the 'Refresh Security Cache' function from Excel add-in to update.\n"
          ]
        }
      ]
    },
    {
      "cell_type": "markdown",
      "source": [
        "# 4. Analysis"
      ],
      "metadata": {
        "id": "UiDIc82rky12"
      }
    },
    {
      "cell_type": "code",
      "source": [
        "from google.colab import drive\n",
        "drive.mount('/content/drive')\n"
      ],
      "metadata": {
        "colab": {
          "base_uri": "https://localhost:8080/"
        },
        "id": "kIjOYFjflnzq",
        "outputId": "5015133b-717a-4bea-bfc2-4e11744d64b5"
      },
      "execution_count": null,
      "outputs": [
        {
          "output_type": "stream",
          "name": "stdout",
          "text": [
            "Mounted at /content/drive\n"
          ]
        }
      ]
    },
    {
      "cell_type": "code",
      "source": [
        "import pandas as pd\n",
        "import numpy as np\n",
        "import matplotlib.pyplot as plt\n",
        "\n",
        "# Read the excel file\n",
        "file_path = \"/content/drive/Shareddrives/Capstone - deFacto Global/Model test/Result2.xlsx\"\n",
        "df = pd.read_excel(file_path)\n",
        "\n",
        "# Remove non-numeric values\n",
        "df = df[df['Score_Consultant'].apply(lambda x: isinstance(x, (int, float)))]\n",
        "df = df[df['Score_TeamMember'].apply(lambda x: isinstance(x, (int, float)))]\n",
        "\n",
        "# Calculate the frequency for each score\n",
        "score_consultant_counts = df['Score_Consultant'].value_counts().sort_index()\n",
        "score_teammember_counts = df['Score_TeamMember'].value_counts().sort_index()\n",
        "\n",
        "# Ensure both series have the same indices\n",
        "all_scores = sorted(set(score_consultant_counts.index) | set(score_teammember_counts.index))\n",
        "score_consultant_counts = score_consultant_counts.reindex(all_scores, fill_value=0)\n",
        "score_teammember_counts = score_teammember_counts.reindex(all_scores, fill_value=0)\n",
        "\n",
        "# Set the position and width for the bars\n",
        "bar_width = 0.35\n",
        "index_consultant = np.arange(len(all_scores))\n",
        "index_teammember = [i + bar_width for i in index_consultant]\n",
        "\n",
        "# Create the bar charts side by side\n",
        "plt.figure(figsize=(12,6))\n",
        "plt.bar(index_consultant, score_consultant_counts.values, bar_width, label='Score_Consultant', color='blue')\n",
        "plt.bar(index_teammember, score_teammember_counts.values, bar_width, label='Score_TeamMember', color='red')\n",
        "\n",
        "# Set the labels, title, and legend for the chart\n",
        "plt.xlabel('Score')\n",
        "plt.ylabel('Count')\n",
        "plt.title('Frequency of Scores for Score_Consultant and Score_TeamMember')\n",
        "plt.xticks(index_consultant + bar_width/2, all_scores)  # Set the x-ticks to be in the middle of the two bars\n",
        "plt.legend()\n",
        "\n",
        "# Display the bar chart\n",
        "plt.tight_layout()\n",
        "plt.show()\n"
      ],
      "metadata": {
        "colab": {
          "base_uri": "https://localhost:8080/",
          "height": 591
        },
        "id": "E1g0KqcQk0w0",
        "outputId": "cf801986-f97f-44d3-f1b2-4234897d7ab0"
      },
      "execution_count": null,
      "outputs": [
        {
          "output_type": "display_data",
          "data": {
            "text/plain": [
              "<Figure size 1200x600 with 1 Axes>"
            ],
            "image/png": "[encoded data removed]"
          },
          "metadata": {}
        }
      ]
    },
    {
      "cell_type": "code",
      "source": [
        "# Remove non-numeric values from the 'runtime' column\n",
        "df = df[df['runtime'].apply(lambda x: isinstance(x, (int, float)))]\n",
        "\n",
        "# Calculate the average runtime\n",
        "average_runtime = df['runtime'].mean()\n",
        "\n",
        "# Create the histogram\n",
        "plt.figure(figsize=(12,6))\n",
        "plt.hist(df['runtime'], bins=50, color='green', edgecolor='black', label='Runtime Distribution')\n",
        "\n",
        "# Add the average line\n",
        "plt.axvline(average_runtime, color='red', linestyle='dashed', linewidth=2, label=f'Average Runtime: {average_runtime:.2f}')\n",
        "\n",
        "# Set the labels and title for the chart\n",
        "plt.xlabel('Runtime')\n",
        "plt.ylabel('Count')\n",
        "plt.title('Distribution of Runtime with Average Line')\n",
        "plt.legend()\n",
        "\n",
        "# Display the histogram\n",
        "plt.tight_layout()\n",
        "plt.show()"
      ],
      "metadata": {
        "colab": {
          "base_uri": "https://localhost:8080/",
          "height": 591
        },
        "id": "WFAZkbJRfvzw",
        "outputId": "c57dfdb2-1d41-4535-f911-db87bc98c60c"
      },
      "execution_count": null,
      "outputs": [
        {
          "output_type": "display_data",
          "data": {
            "text/plain": [
              "<Figure size 1200x600 with 1 Axes>"
            ],
            "image/png": "[encoded data removed]"
          },
          "metadata": {}
        }
      ]
    }
  ]
}